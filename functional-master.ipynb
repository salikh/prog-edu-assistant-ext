{
 "cells": [
  {
   "cell_type": "code",
   "execution_count": null,
   "metadata": {
    "colab": {
     "height": 136
    },
    "colab_type": "code",
    "executionInfo": {
     "elapsed": 579,
     "status": "error",
     "timestamp": 1564312153688,
     "user": {
      "displayName": "Keiichi Watanabe",
      "photoUrl": "https://lh3.googleusercontent.com/a-/AAuE7mCXbo3WUEqGSdgGDLj87M6MHSXasbk_n2MMcaUs=s64",
      "userId": "01315856587179417490"
     },
     "user_tz": -540
    },
    "id": "pve19KUAbTBZ",
    "outputId": "0baf77d0-beb2-460a-d29a-1cf49ab24373"
   },
   "outputs": [],
   "source": [
    "# MASTER ONLY\n",
    "\n",
    "%load_ext prog_edu_assistant_tools.magics\n",
    "from prog_edu_assistant_tools.magics import report, autotest"
   ]
  },
  {
   "cell_type": "markdown",
   "metadata": {
    "colab_type": "text",
    "id": "75_s524ZbJMS"
   },
   "source": [
    "# 関数型プログラミング (Functional Programming)\n",
    "\n",
    "```\n",
    "# ASSIGNMENT METADATA\n",
    "assignment_id: \"Functional\"\n",
    "```"
   ]
  },
  {
   "cell_type": "markdown",
   "metadata": {},
   "source": [
    "**lang:ja**\n",
    "\n",
    "この講義では **関数型プログラミング** (**functional programming**)というプログラミングスタイルを紹介し、それがプログラミングでどう役に立つかということを説明します。\n",
    "関数型プログラミングの概念を全く知らなくてもPythonでプログラムを書くことはできますが、理解しておくとより良いプログラムを書くのに役立つでしょう。"
   ]
  },
  {
   "cell_type": "markdown",
   "metadata": {},
   "source": [
    "**lang:en**\n",
    "\n",
    "We will introduce a programming style called **\"functional programming\"** and explain how it's useful in Python programming.\n",
    "Although you can write programs in Python without understanding functional programming, the concept of functional programming should help you to write better programs.\n",
    "\n",
    "The goal of this lecture is to tell basic concepts of functional programming so that you can make use of them in practical programming."
   ]
  },
  {
   "cell_type": "markdown",
   "metadata": {
    "colab_type": "text",
    "id": "i2OUyeUqmhi7"
   },
   "source": [
    "## 1. 関数型プログラミングとは (What's functional programming)"
   ]
  },
  {
   "cell_type": "markdown",
   "metadata": {
    "colab_type": "text",
    "id": "2aGt5MWerydv"
   },
   "source": [
    "**lang:ja**\n",
    "\n",
    "この講義で扱う**関数型プログラミング (functional programming)**(または、関数プログラミング)というのは一般に、「入力から出力が一意に定まる\"関数\"の適用・合成によってプログラムを記述していくプログラミングスタイル」のことです。\n",
    "\n",
    "関数型プログラミングには以下のような利点が期待できます:\n",
    "* データの流れがわかりやすくなる\n",
    "* プログラムの分割・結合・再利用がしやすくなる\n",
    "* より高度な抽象化によって、複雑な処理がシンプルにかける\n",
    "\n",
    "「関数型プログラミング」というようなプログラミングスタイルの分類のことを **プログラミングパラダイム (programming paradigm)** といいます。\n",
    "\n",
    "他によく知られているパラダイムには以下のようなものがあります:\n",
    "* **手続き型プログラミング (procedual programming)**\n",
    "* **オブジェクト指向プログラミング (object-oriented programming)**\n",
    "* **宣言型プログラミング (declarative programming)**\n",
    "\n",
    "ただし、プログラミングパラダイムは、守らなければならない厳密なルールや絶対的なもの*ではありません*。\n",
    "むしろ、これらは理論と実践に基づいた、良いとされるプログラミングアプローチのようなものです。\n",
    "\n",
    "また、それぞれのパラダイムは対立するものではなく、独立な概念であるので、一つのプログラムでこれらのスタイルを共存させることもできます。\n",
    "例えばオブジェクト指向プログラミングとは、データや処理を\"オブジェクト\"としてまとめるスタイルですが、Pythonではこれは`Class`を用いることで実現できます。\n",
    "\n",
    "この講義では、関数型プログラミングのいくつかの基本的な概念を紹介し、実際のプログラミングに役立てられる形で身につけてもらうことを目標とします。"
   ]
  },
  {
   "cell_type": "markdown",
   "metadata": {},
   "source": [
    "**lang:en**\n",
    "\n",
    "**Functional programming** is generally a programming style in which a program is written by applying / synthesizing a \"function\" that uniquely determines the output from the input.\".\n",
    "\n",
    "Functional programming can offer the following advantages:\n",
    "* Easy to understand the flow of data\n",
    "* Easy to split, combine and reuse programs\n",
    "* Able to write complex procedures in a simple way\n",
    "\n",
    "The classification of programming style like \"functional programming\" is called **programming paradigm**.\n",
    "Other well known paradigms include the following:\n",
    "* **Procedural programming**\n",
    "* **Object-oriented programming**\n",
    "* **Declarative programming**\n",
    "\n",
    "Note that programming paradigm is *not* a strict rule.\n",
    "Rather, they are like a good programming approach, based on theory and practice.\n",
    "\n",
    "Usually these paradigms are not conflicting, but are independent concepts, so it is possible to have these styles coexist in one program.\n",
    "For example, object-oriented programming is a style that combines data and processing as \"objects\", but in Python this can be achieved using `Class`."
   ]
  },
  {
   "cell_type": "markdown",
   "metadata": {
    "colab_type": "text",
    "id": "AX3rFJeYlqfw"
   },
   "source": [
    "## 2. 関数によるモジュール化 (Modularity)\n"
   ]
  },
  {
   "cell_type": "markdown",
   "metadata": {
    "colab_type": "text",
    "id": "NjI-NBA9VJDr"
   },
   "source": [
    "**lang:ja**\n",
    "\n",
    "これまでの講義のなかで、「関数」を使えば何度も繰り返される操作をくくりだすことができることを学んできました。\n",
    "\n",
    "例えば次のプログラムを見てみましょう。ここでは、二人の学生の成績を計算しています。"
   ]
  },
  {
   "cell_type": "markdown",
   "metadata": {},
   "source": [
    "**lang:en**\n",
    "\n",
    "So far, we have learn that functions are a way to extract repeated sequences of instructions.\n",
    "\n",
    "For example, consider the following program, which calculates the final letter grade for two students:"
   ]
  },
  {
   "cell_type": "code",
   "execution_count": null,
   "metadata": {
    "colab": {
     "height": 54
    },
    "colab_type": "code",
    "executionInfo": {
     "elapsed": 632,
     "status": "ok",
     "timestamp": 1564315882830,
     "user": {
      "displayName": "Keiichi Watanabe",
      "photoUrl": "https://lh3.googleusercontent.com/a-/AAuE7mCXbo3WUEqGSdgGDLj87M6MHSXasbk_n2MMcaUs=s64",
      "userId": "01315856587179417490"
     },
     "user_tz": -540
    },
    "id": "3IMiTiPlYssQ",
    "outputId": "4998926f-2aa6-443d-8bcc-2c3836f26528"
   },
   "outputs": [],
   "source": [
    "# A program that calculates the final grade for each student.\n",
    "\n",
    "# Scores for Assignment 1, Assignment 2, and Final Exam.\n",
    "sam_scores = [90, 80, 90]\n",
    "yuko_scores = [90, 100, 80]\n",
    "\n",
    "sam_weighted_score = 0.2 * sam_scores[0] + 0.2 * sam_scores[1] + 0.6 * sam_scores[2]\n",
    "sam_grade = 'PASS' if sam_weighted_score > 60 else 'FAIL'\n",
    "print('Sam\\'s final score: {} => {}'.format(sam_weighted_score, sam_grade))\n",
    "\n",
    "yuko_weighted_score = 0.2 * yuko_scores[0] + 0.2 * yuko_scores[1] + 0.6 * yuko_scores[2]\n",
    "yuko_grade = 'PASS' if yuko_weighted_score > 60 else 'FAIL'\n",
    "print('Yuko\\'s final score: {} => {}'.format(yuko_weighted_score, yuko_grade))"
   ]
  },
  {
   "cell_type": "markdown",
   "metadata": {
    "colab_type": "text",
    "id": "XC5yVimKZg0W"
   },
   "source": [
    "**lang:ja**\n",
    "\n",
    "プログラムのなかで `Sam` と `Yuko` の成績は同じ方法で計算をされています。\n",
    "しかし、このプログラムをすこし見ただけでは、本当に全く同じ方法で行われていることを確認するのはなかなか大変です。\n",
    "さらに、もし成績評価に関するパラメータを変えたくなったとした場合は、それぞれの学生に対する処理が同じになるよう、注意深くコードを変更する必要があります。\n",
    "\n",
    "このような問題は、成績評価をするための一連の処理の流れを「関数」としてまとめることで解決できます。\n",
    "以下のプログラムのように処理を関数にまとめれば、各学生に対し同じ関数を呼ぶだけで、同じ計算をしていることが保証できますし、パラメータを調整する際も変更箇所は関数の内側だけに限定されます。"
   ]
  },
  {
   "cell_type": "markdown",
   "metadata": {},
   "source": [
    "**lang:en**\n",
    "\n",
    "`Sam` and `Yuko`'s grades are calculated in exactly the same way. However, it is currently very difficult to make sure that these calculations are carried out consistently. If we change how a particular assignment is weighed, or what is the criteria for passing, then we need to carefully make these changes for every single student.\n",
    "\n",
    "To avoid this problem, we can group the sequence of instructions that calculates a student's grade into a function. We can then simply call this function for each student, and any change that we need to make to our assignment weights can happen inside this function."
   ]
  },
  {
   "cell_type": "code",
   "execution_count": null,
   "metadata": {
    "colab": {
     "height": 73
    },
    "colab_type": "code",
    "executionInfo": {
     "elapsed": 631,
     "status": "ok",
     "timestamp": 1564315886893,
     "user": {
      "displayName": "Keiichi Watanabe",
      "photoUrl": "https://lh3.googleusercontent.com/a-/AAuE7mCXbo3WUEqGSdgGDLj87M6MHSXasbk_n2MMcaUs=s64",
      "userId": "01315856587179417490"
     },
     "user_tz": -540
    },
    "id": "pxHkAO0iafGW",
    "outputId": "2df96162-3c44-45c0-c635-410872548210"
   },
   "outputs": [],
   "source": [
    "def calculate_grade(student_name, scores):\n",
    "  weighted_score = 0.2 * scores[0] + 0.2 * scores[1] + 0.6 * scores[2]\n",
    "  grade = 'PASS' if weighted_score > 60 else 'FAIL'\n",
    "  return '{}\\'s final score: {} => {}'.format(student_name, weighted_score, grade)\n",
    "\n",
    "print(calculate_grade('Sam', sam_scores))\n",
    "print(calculate_grade('Yuko', yuko_scores))\n",
    "\n",
    "devon_scores = [60, 50, 60]\n",
    "print(calculate_grade('Devon', devon_scores))"
   ]
  },
  {
   "cell_type": "markdown",
   "metadata": {
    "colab_type": "text",
    "id": "TOxeMwzp_yR-"
   },
   "source": [
    "**lang:ja**\n",
    "\n",
    "このように関数でまとめると、あとから処理を変更しやすかったり、新たな学生を追加したりといったことが簡単になります。\n",
    "\n",
    "このように処理を関数によって分割することを**モジュール化**といいます。プログラムをモジュール化することで、プログラムのデバッグや再利用が簡単になります。"
   ]
  },
  {
   "cell_type": "markdown",
   "metadata": {},
   "source": [
    "**lang:en**\n",
    "\n",
    "As shown above, it's much easier to change the function and add new students after using a function.\n",
    "\n",
    "It is called **modularization** that a procedure is splited as functions in this way. By modularizing programs, it is easier to debug and reuse programs."
   ]
  },
  {
   "cell_type": "markdown",
   "metadata": {
    "colab_type": "text",
    "id": "KtStYZsmAkCv"
   },
   "source": [
    "## 3. 純粋関数 (Pure Function)"
   ]
  },
  {
   "cell_type": "markdown",
   "metadata": {
    "colab_type": "text",
    "id": "0mZ-2EG3r6F_"
   },
   "source": [
    "**lang:ja**\n",
    "\n",
    "ところで、上で実装した `calculate_grade` を何度も呼ぶと何が起こるでしょうか？"
   ]
  },
  {
   "cell_type": "markdown",
   "metadata": {},
   "source": [
    "**lang:en**\n",
    "\n",
    "By the way, what will happen if we call `calculate_grade` multiple times?"
   ]
  },
  {
   "cell_type": "code",
   "execution_count": null,
   "metadata": {
    "colab": {
     "height": 73
    },
    "colab_type": "code",
    "executionInfo": {
     "elapsed": 645,
     "status": "ok",
     "timestamp": 1564315892973,
     "user": {
      "displayName": "Keiichi Watanabe",
      "photoUrl": "https://lh3.googleusercontent.com/a-/AAuE7mCXbo3WUEqGSdgGDLj87M6MHSXasbk_n2MMcaUs=s64",
      "userId": "01315856587179417490"
     },
     "user_tz": -540
    },
    "id": "C7DUilSQJkzv",
    "outputId": "1355cc1a-9b6b-445a-e260-d8c5e92e856d"
   },
   "outputs": [],
   "source": [
    "print(calculate_grade('Sam', sam_scores))\n",
    "print(calculate_grade('Sam', sam_scores))\n",
    "\n",
    "# When we call the function again, the same message will be printed.\n",
    "print(calculate_grade('Sam', sam_scores))"
   ]
  },
  {
   "cell_type": "markdown",
   "metadata": {
    "colab_type": "text",
    "id": "vt5yGHcBKGCu"
   },
   "source": [
    "**lang:ja**\n",
    "\n",
    "もちろん同じ値が何度も返されます。\n",
    "同じ値を引数にあたえているのだから当たり前に思えます。\n",
    "では、次の関数 `calculate_grade_impure` はどうでしょうか？"
   ]
  },
  {
   "cell_type": "markdown",
   "metadata": {},
   "source": [
    "**lang:en**\n",
    "\n",
    "Of course, the same value is returned for each call.\n",
    "It is natural because the same value is given to the argument.\n",
    "So what about the following function `calculate_grade_impure`?"
   ]
  },
  {
   "cell_type": "code",
   "execution_count": null,
   "metadata": {
    "colab": {
     "height": 73
    },
    "colab_type": "code",
    "executionInfo": {
     "elapsed": 633,
     "status": "ok",
     "timestamp": 1564315896310,
     "user": {
      "displayName": "Keiichi Watanabe",
      "photoUrl": "https://lh3.googleusercontent.com/a-/AAuE7mCXbo3WUEqGSdgGDLj87M6MHSXasbk_n2MMcaUs=s64",
      "userId": "01315856587179417490"
     },
     "user_tz": -540
    },
    "id": "gK3EkprHAtA8",
    "outputId": "732e8f99-2408-4b83-b115-f2e695035b65"
   },
   "outputs": [],
   "source": [
    "# Impure version\n",
    "def calculate_grade_impure(student_name, scores):\n",
    "  scores[0] *= 0.2\n",
    "  scores[1] *= 0.2\n",
    "  scores[2] *= 0.6\n",
    "  weighted_score = scores[0] + scores[1] + scores[2]\n",
    "  grade = 'PASS' if weighted_score > 60 else 'FAIL'\n",
    "  return '{}\\'s final score: {} => {}'.format(student_name, weighted_score, grade)\n",
    "\n",
    "print(calculate_grade_impure('Sam', sam_scores))\n",
    "print(calculate_grade_impure('Sam', sam_scores))\n",
    "\n",
    "# When we call the function again, we get a different result!\n",
    "print(calculate_grade_impure('Sam', sam_scores))"
   ]
  },
  {
   "cell_type": "markdown",
   "metadata": {},
   "source": [
    "**lang:ja**\n",
    "\n",
    "関数を呼ぶたびに`Sam`のscoreが減少してしまいました！ これは `calculate_grade_impure` の内部で `score` の値自体を変更してしまっているためです。\n",
    "\n",
    "この `calculate_grade_impure` が行うような、返り値の計算に直接関係ない状態を変える処理などのことを **副作用**　とよびます。副作用のない関数を**純粋関数**といいます。今回の場合、`calculate_grade` は純粋関数であり、`calculate_grade_impure` は非純粋関数です。\n",
    "\n",
    "関数型プログラミングにおいて、非純粋関数よりも純粋関数のほうが推奨されます。\n",
    "今回の例でみたように、非純粋関数を呼ぶ際にはデータがどのように変わるのかということに注意を払う必要があり、プログラムの複雑性が増すためです。\n",
    "また、純粋関数のほうが、コードの再利用がしやすいという利点があります。\n",
    "\n",
    "ただし、Pythonにおいて、非純粋関数を完全になくすことは現実的ではありませんし、純粋関数はパフォーマンス上不利になることもあります。\n",
    "ただ、関数を定義する際や呼ぶ際にそれがどんな副作用を持つかどうかを意識するのは大切です。"
   ]
  },
  {
   "cell_type": "markdown",
   "metadata": {
    "colab_type": "text",
    "id": "44i9aRxKK30u"
   },
   "source": [
    "**lang:en**\n",
    "\n",
    "Every time you call the function `calculate_grade_impure`, the score of `Sam` has decreased! This is because `score` itself has been changed inside.`calculate_grade_impure`\n",
    "\n",
    "Changeing the state not directly related to the main computation is called **side effects**. Functions with no side effects are called **\"pure functions\"**. In this case, `calculate_grade` is a pure function, and` calculate_grade_impure` is an impure function.\n",
    "\n",
    "For functional programming, pure functions are recommended over non-pure functions.\n",
    "As we saw in this example, it is necessary to pay attention to how data changes when calling an impure function, which increases the complexity of the program.\n",
    "Also, pure functions have the advantage of being easier to reuse code.\n",
    "\n",
    "However, in Python, it is not realistic to completely eliminate impure functions, and pure functions may be disadvantageous for performance.\n",
    "However, when defining or calling a function it is still important to be aware of what side effects it has."
   ]
  },
  {
   "cell_type": "markdown",
   "metadata": {
    "colab_type": "text",
    "id": "vnpO2DurbbUX"
   },
   "source": [
    "## 4. 第一級オブジェクトとしての関数 (Function as a first-class object)"
   ]
  },
  {
   "cell_type": "markdown",
   "metadata": {},
   "source": [
    "**lang:ja**\n",
    "\n",
    "Pythonにおいて、関数は変数に格納されたり、他の関数の引数や返り値になることができます。\n",
    "このことを関数が **第一級オブジェクト (first-class object)** として扱われるといいます。第一級オブジェクトとは、変数への代入や関数の引数や返り値になることなどができる値のことです。他には数値型や`String`型の値、リスト、辞書、Class なども第一級オブジェクトです。\n",
    "\n",
    "この「関数が第一級オブジェクトである」性質は、我々は「数値」や「文字列」と同様に、それらに対する「操作」をもプログラムの中で持ち回すことを意味します。\n",
    "この性質をうまく使いこなすことで、より簡潔でわかりやすいプログラムをかけることがあります。\n",
    "\n",
    "それでは実際の例をみていきましょう。\n",
    "まず、関数は数値などの値と同様に変数に代入することができ、それをいつも通り呼び出すことができます。"
   ]
  },
  {
   "cell_type": "markdown",
   "metadata": {
    "colab_type": "text",
    "id": "hZS8z-qzfnVl"
   },
   "source": [
    "**lang:en**\n",
    "\n",
    "A function is simply an object you can call in Python. Otherwise, a function behaves no differently from other objects. This property is incredibly powerful as it allows us to move *operations* around our code.\n",
    "\n",
    "Let's take a look at how this works more concretely. First, we can assign functions to variables, and call them as usual."
   ]
  },
  {
   "cell_type": "code",
   "execution_count": null,
   "metadata": {
    "colab": {
     "height": 35
    },
    "colab_type": "code",
    "executionInfo": {
     "elapsed": 631,
     "status": "ok",
     "timestamp": 1564315906118,
     "user": {
      "displayName": "Keiichi Watanabe",
      "photoUrl": "https://lh3.googleusercontent.com/a-/AAuE7mCXbo3WUEqGSdgGDLj87M6MHSXasbk_n2MMcaUs=s64",
      "userId": "01315856587179417490"
     },
     "user_tz": -540
    },
    "id": "ew6nj-1AfWsg",
    "outputId": "59c8cfb5-1fd5-4097-da6f-db0807ddc344"
   },
   "outputs": [],
   "source": [
    "def square(x):\n",
    "  return x ** 2\n",
    "\n",
    "# We can assign a function `square` to a variable `my_square`\n",
    "my_square = square\n",
    "\n",
    "# The variable can be called since it contains a function.\n",
    "print(my_square(3))"
   ]
  },
  {
   "cell_type": "markdown",
   "metadata": {
    "colab_type": "text",
    "id": "BxLrn6y5f1Sc"
   },
   "source": [
    "**lang:ja**\n",
    "\n",
    "関数をリストに格納することもできます。\n",
    "これは例えば連続して呼ぶべき関数があったときなどに役立つでしょう。"
   ]
  },
  {
   "cell_type": "markdown",
   "metadata": {},
   "source": [
    "**lang:en**\n",
    "\n",
    "We can also add functions to a list. This can be useful if we have a series of functions that we need to call."
   ]
  },
  {
   "cell_type": "code",
   "execution_count": null,
   "metadata": {
    "colab": {
     "height": 54
    },
    "colab_type": "code",
    "executionInfo": {
     "elapsed": 636,
     "status": "ok",
     "timestamp": 1564315909418,
     "user": {
      "displayName": "Keiichi Watanabe",
      "photoUrl": "https://lh3.googleusercontent.com/a-/AAuE7mCXbo3WUEqGSdgGDLj87M6MHSXasbk_n2MMcaUs=s64",
      "userId": "01315856587179417490"
     },
     "user_tz": -540
    },
    "id": "2bHAYl2jfz2Q",
    "outputId": "cfdd9169-8999-4428-c4ab-79941c31628a"
   },
   "outputs": [],
   "source": [
    "def square(x):\n",
    "  return x ** 2\n",
    "\n",
    "\n",
    "def cube(x):\n",
    "  return x ** 3\n",
    "\n",
    "# Creating a list of functions.\n",
    "power_functions = [ square, cube ]\n",
    "for power_function in power_functions:\n",
    "  print(power_function(3))"
   ]
  },
  {
   "cell_type": "markdown",
   "metadata": {
    "colab_type": "text",
    "id": "nfQnv1_6gg9m"
   },
   "source": [
    "**lang:ja**\n",
    "\n",
    "また、関数を別の関数に引数として渡したり、関数の返り値にすることもできます。\n",
    "引数や返り値が関数である関数のことを**高階関数 (higher-order function)** といいます。\n",
    "\n",
    "高階関数を用いることでより進んだ抽象化を行うことができます。\n",
    "リストをソートする操作を考えてみましょう。\n",
    "「リスト内の値を並べ替える」という操作はとても一般的なものです。\n",
    "しかし、あるリストにおいて「どんな値が先にくるべきか」というのは、用途によります。\n",
    "そこでPythonは ソートを行う `sorted(...)` を高階関数として提供しています。\n",
    "`sorted` を呼ぶ際に `key` としてどの値で並べ替えるべきかを指定する関数を与えることができます。"
   ]
  },
  {
   "cell_type": "markdown",
   "metadata": {},
   "source": [
    "**lang:en**\n",
    "\n",
    "We can also pass functions to functions as arguments. This is most helpful when we have a general pattern, and we need specific operations to make these patterns relevant to our programs.\n",
    "\n",
    "A good example that we mentioned earlier is sorting, where \"what should come first\" is very dependent on our program. For example, for Python's built in `sorted(...)` function, we use the `key` argument to tell the function which of the students' attributes to sort by."
   ]
  },
  {
   "cell_type": "code",
   "execution_count": null,
   "metadata": {
    "colab": {
     "height": 54
    },
    "colab_type": "code",
    "executionInfo": {
     "elapsed": 675,
     "status": "ok",
     "timestamp": 1564315912415,
     "user": {
      "displayName": "Keiichi Watanabe",
      "photoUrl": "https://lh3.googleusercontent.com/a-/AAuE7mCXbo3WUEqGSdgGDLj87M6MHSXasbk_n2MMcaUs=s64",
      "userId": "01315856587179417490"
     },
     "user_tz": -540
    },
    "id": "2pt1JXIYgwRP",
    "outputId": "b6f89be6-cae8-43af-8ed6-c9a257701f37"
   },
   "outputs": [],
   "source": [
    "student_ages = [('Sam', 18), ('Yuko', 20), ('Devon', 19)]\n",
    "\n",
    "# Sort by names in alphabetical order.\n",
    "def get_name(student):\n",
    "  return student[0]\n",
    "\n",
    "sorted_by_name = sorted(student_ages, key=get_name)\n",
    "print('Sorted by name: {}'.format(sorted_by_name))\n",
    "\n",
    "# Sort by age. (ascending order)\n",
    "## You can use lambda to avoid defining a new function\n",
    "sorted_by_age = sorted(student_ages, key=lambda student:student[1])\n",
    "print('Sorted by age (smallest to largest): {}'.format(sorted_by_age))\n",
    "\n",
    "# You can use `reverse` to sort a list by descending order.\n",
    "sorted_by_age_desc = sorted(student_ages, key=lambda student:student[1], reverse=True)\n",
    "print('Sorted by age (largest to smallest): {}'.format(sorted_by_age_desc))"
   ]
  },
  {
   "cell_type": "markdown",
   "metadata": {
    "colab_type": "text",
    "id": "R29R_69SllrO"
   },
   "source": [
    "**lang:ja**\n",
    "\n",
    "さらに、関数を関数の中で定義し、それを返すことも可能です。\n",
    "次の例では関数`create_adder`の情報を*capture* した`adder`という関数を定義し、それを返しています。"
   ]
  },
  {
   "cell_type": "markdown",
   "metadata": {},
   "source": [
    "**lang:en**\n",
    "\n",
    "Finally, just like objects, functions can be *defined* and *returned* in functions. This is an advanced technique that will not be covered in this notebook, but allows information in the outer function to be \"captured\" by the inner function."
   ]
  },
  {
   "cell_type": "code",
   "execution_count": null,
   "metadata": {
    "colab": {
     "height": 35
    },
    "colab_type": "code",
    "executionInfo": {
     "elapsed": 639,
     "status": "ok",
     "timestamp": 1564315915035,
     "user": {
      "displayName": "Keiichi Watanabe",
      "photoUrl": "https://lh3.googleusercontent.com/a-/AAuE7mCXbo3WUEqGSdgGDLj87M6MHSXasbk_n2MMcaUs=s64",
      "userId": "01315856587179417490"
     },
     "user_tz": -540
    },
    "id": "KSu1ns9gmMcS",
    "outputId": "31f7834e-b30c-4fba-9408-a8e62521d07b"
   },
   "outputs": [],
   "source": [
    "def create_adder(k):\n",
    "  def adder(x):\n",
    "    # k is captured from the outer function.\n",
    "    return x + k\n",
    "  return adder\n",
    "\n",
    "\n",
    "adder_5 = create_adder(5)\n",
    "print(adder_5(3))"
   ]
  },
  {
   "cell_type": "markdown",
   "metadata": {
    "colab_type": "text",
    "id": "TvTvxdDVmbt4"
   },
   "source": [
    "## 5. Exercise: 高階関数 (Higher-order functions)"
   ]
  },
  {
   "cell_type": "markdown",
   "metadata": {
    "colab_type": "text",
    "id": "CB2CcEvSDp4w"
   },
   "source": [
    "### 5.1. Calling Functions from Functions"
   ]
  },
  {
   "cell_type": "markdown",
   "metadata": {},
   "source": [
    "**lang:ja**\n",
    "\n",
    "それでは実際に関数を引数に取る関数を実装してみましょう。\n",
    "\n",
    "1引数関数`f`と2つの値`x, n`を受け取り、`f` を`x`に対して `n`回適用する関数 `apply_n_times(f, x, n)` を実装してください。"
   ]
  },
  {
   "cell_type": "markdown",
   "metadata": {
    "colab_type": "text",
    "id": "nCTjEcOi772H"
   },
   "source": [
    "**lang:en**\n",
    "\n",
    "In this section, let's implement higher-order functions by ourselves.\n",
    "\n",
    "Define a function named `apply_n_times(f, x, n)` that takes a function `f` and two arguments `x`, `n`, and returns the value when this function is applied to `x` `n` times."
   ]
  },
  {
   "cell_type": "markdown",
   "metadata": {},
   "source": [
    "#### Example\n",
    "\n",
    "```python\n",
    "def add2(x):\n",
    "  return x + 2\n",
    "\n",
    "# Prints 10 (i.e. add2(add2(add2(add2(add2(0))))))\n",
    "print(apply_n_times(add2, 0, 5)) \n",
    "```\n",
    "\n",
    "```\n",
    "# EXERCISE METADATA\n",
    "exercise_id: \"ex51_ApplyNTimes\"\n",
    "```"
   ]
  },
  {
   "cell_type": "code",
   "execution_count": null,
   "metadata": {
    "colab": {
     "height": 35
    },
    "colab_type": "code",
    "executionInfo": {
     "elapsed": 641,
     "status": "ok",
     "timestamp": 1564315919722,
     "user": {
      "displayName": "Keiichi Watanabe",
      "photoUrl": "https://lh3.googleusercontent.com/a-/AAuE7mCXbo3WUEqGSdgGDLj87M6MHSXasbk_n2MMcaUs=s64",
      "userId": "01315856587179417490"
     },
     "user_tz": -540
    },
    "id": "r_0HkD6UFpoG",
    "outputId": "89a74381-c6f5-412b-d286-48c6fb732012"
   },
   "outputs": [],
   "source": [
    "%%solution\n",
    "def apply_n_times(f, x, n):\n",
    "  \"\"\" # BEGIN PROMPT\n",
    "  pass\n",
    "  \"\"\" # END PROMPT\n",
    "  # BEGIN SOLUTION\n",
    "  result = x\n",
    "  for _ in range(n):\n",
    "    result = f(result)\n",
    "  return result\n",
    "  # END SOLUTION"
   ]
  },
  {
   "cell_type": "code",
   "execution_count": null,
   "metadata": {
    "colab": {},
    "colab_type": "code",
    "id": "ccrAyumVF2te"
   },
   "outputs": [],
   "source": [
    "%%studenttest ApplyNTimesStudentTest\n",
    "def add2(x):\n",
    "  return x + 2\n",
    "assert apply_n_times(add2, 0, 5) == 10\n",
    "\n",
    "# Note: the \"lambda\" syntax is a shorthand for creating a function with no name.\n",
    "# For more information, see:\n",
    "# https://docs.python.org/3/tutorial/controlflow.html#lambda-expressions\n",
    "assert apply_n_times(lambda x: x * 2, 1, 10) == 1024\n",
    "\n",
    "def fibonacci_step(x):\n",
    "  return (x[1], x[0] + x[1])\n",
    "assert apply_n_times(fibonacci_step, (1, 1), 10) == (89, 144)"
   ]
  },
  {
   "cell_type": "code",
   "execution_count": null,
   "metadata": {},
   "outputs": [],
   "source": [
    "%%inlinetest ApplyNTimesInlineTest\n",
    "assert apply_n_times(lambda x: True, None, 1) is not None, 'Did you forget to return a value?'\n",
    "assert apply_n_times(lambda x: x + 1, 1, 2) == 3, 'Are you passing `x` and `y` to the function?'\n",
    "assert apply_n_times(lambda x: x * x, 0, 100) == 0, '`x` must be returned as is when `n == 0`.'"
   ]
  },
  {
   "cell_type": "markdown",
   "metadata": {
    "colab_type": "text",
    "id": "myKPcvop7rph"
   },
   "source": [
    "### 5.2. Returning the First Item that Matches a Predicate"
   ]
  },
  {
   "cell_type": "markdown",
   "metadata": {
    "colab_type": "text",
    "id": "LDDhP8YfEV4b"
   },
   "source": [
    "**lang:ja**\n",
    "\n",
    "引数を受け取り、`True` か `False` を返す純粋関数をpredicate (述語)と呼ぶことにします。\n",
    "例えば、次の関数`greater_than_5` はpredicateです。\n",
    "```python\n",
    "def greater_than_5(x):\n",
    "  return x > 5\n",
    "```\n",
    "\n",
    "predicateとリストを受け取り、リストの要素のうちそのpredicateが`True`を返す最初の要素を返す関数`find_first_match` を実装してください。\n",
    "ただし、そのような要素が存在しない場合、`None` を返してください。"
   ]
  },
  {
   "cell_type": "markdown",
   "metadata": {},
   "source": [
    "**lang:en**\n",
    "\n",
    "We call a function that takes arguments and returns a Boolean value as \"predicate\".\n",
    "For example, following `greater_than_5` is a predicate.\n",
    "```python\n",
    "def greater_than_5(x):\n",
    "  return x > 5\n",
    "```\n",
    "\n",
    "Define a function `find_first_match(...)` that takes a predicate and a list, and returns the first matching item. If there is no such item, then return `None`."
   ]
  },
  {
   "cell_type": "markdown",
   "metadata": {},
   "source": [
    "#### Example\n",
    "\n",
    "```python\n",
    "# Prints 8, which is the first item greater than 5.\n",
    "print(find_first_match(greater_than_5, [1, 2, 3, 8, 9]))\n",
    "\n",
    "# Prints None\n",
    "print(find_first_match(greater_than_5, [1, 2, 3, -8, -9]))\n",
    "```\n",
    "\n",
    "```\n",
    "# EXERCISE METADATA\n",
    "exercise_id: \"ex52_FindFirstByPredicate\"\n",
    "```"
   ]
  },
  {
   "cell_type": "code",
   "execution_count": null,
   "metadata": {
    "colab": {},
    "colab_type": "code",
    "id": "JL9madt0EpJ_"
   },
   "outputs": [],
   "source": [
    "%%solution\n",
    "def find_first_match(predicate, items):\n",
    "  \"\"\" # BEGIN PROMPT\n",
    "  pass\n",
    "  \"\"\" # END PROMPT\n",
    "  # BEGIN SOLUTION\n",
    "  for x in items:\n",
    "    if predicate(x):\n",
    "      return x\n",
    "  # END SOLUTION"
   ]
  },
  {
   "cell_type": "code",
   "execution_count": null,
   "metadata": {
    "colab": {},
    "colab_type": "code",
    "id": "9edQgzuvE1zi"
   },
   "outputs": [],
   "source": [
    "%%studenttest FindFirstMatchStudentTest\n",
    "assert find_first_match(lambda x: x > 5, [1, 2, 3, 8, 9]) == 8\n",
    "assert find_first_match(lambda x: x, [False, False, True]) is True\n",
    "assert find_first_match(lambda x: x == 10, [11, 12, 8]) is None"
   ]
  },
  {
   "cell_type": "code",
   "execution_count": null,
   "metadata": {},
   "outputs": [],
   "source": [
    "%%inlinetest FindFirstMatchInlineTest\n",
    "assert find_first_match(lambda x: True, []) is None, 'Do you have the correct return value when there are no items?'\n",
    "assert find_first_match(lambda x: x > 1, [2]) == 2, 'Are you checking if calling the predicate returns True?'\n",
    "assert find_first_match(lambda x: x > 1, [1, 2]) == 2, 'Are you checking all of the items?'"
   ]
  },
  {
   "cell_type": "markdown",
   "metadata": {
    "colab_type": "text",
    "id": "YA6Y7S9jL33v"
   },
   "source": [
    "### 5.3. Filtering Items in a List"
   ]
  },
  {
   "cell_type": "markdown",
   "metadata": {
    "colab_type": "text",
    "id": "6CvWxTq2pDZK"
   },
   "source": [
    "**lang:ja**\n",
    "\n",
    "Predicateとリストを受け取り、リストの各要素のうち predicateが`True`を返すもののみからなるリストを返す関数 `my_filter` を実装してください。\n",
    "ただし、`my_filter` が返すリスト内の要素の順序は元のリストの順序を保存するものとします。"
   ]
  },
  {
   "cell_type": "markdown",
   "metadata": {},
   "source": [
    "**lang:en**\n",
    "\n",
    "Define a function `filter_items(...)` that takes a predicate and a list of items, and returns only the items for which the predicate returns `True`.\n",
    "`my_filter` has to preserve the order of items in the list passed as an argument."
   ]
  },
  {
   "cell_type": "markdown",
   "metadata": {},
   "source": [
    "#### Example\n",
    "\n",
    "```python\n",
    "def greater_than_3(x):\n",
    "  return x > 3\n",
    "\n",
    " # Prints [4, 8, 10]\n",
    "print(my_filter(greater_than_3, [4, 2, 8, -3, 10, 3]))\n",
    "\n",
    "def longer_than_3(x):\n",
    "  return len(x) > 3\n",
    "\n",
    "# Prints ['elephant', 'hippopotamus'].\n",
    "print(my_filter(longer_than_3, ['dog', 'elephant', 'cat', 'hippopotamus']))\n",
    "```\n",
    "\n",
    "```\n",
    "# EXERCISE METADATA\n",
    "exercise_id: \"ex53_FilterList\"\n",
    "```"
   ]
  },
  {
   "cell_type": "code",
   "execution_count": null,
   "metadata": {
    "colab": {},
    "colab_type": "code",
    "id": "dyPoS0icpC1y"
   },
   "outputs": [],
   "source": [
    "%%solution\n",
    "def my_filter(predicate, items):\n",
    "  \"\"\" # BEGIN PROMPT\n",
    "  pass\n",
    "  \"\"\" # END PROMPT\n",
    "  # BEGIN SOLUTION\n",
    "  filtered_items = []\n",
    "  for item in items:\n",
    "    if predicate(item):\n",
    "      filtered_items.append(item)\n",
    "  return filtered_items\n",
    "  # END SOLUTION"
   ]
  },
  {
   "cell_type": "code",
   "execution_count": null,
   "metadata": {
    "colab": {},
    "colab_type": "code",
    "id": "nx7pEQhJpuRR"
   },
   "outputs": [],
   "source": [
    "%%studenttest MyFilterStudentTest\n",
    "assert(my_filter(lambda x : x > 3, [4, 2, 8, -3, 10, 3]) == \n",
    "       [4, 8, 10])\n",
    "\n",
    "assert (my_filter(lambda x: len(x) > 3, \n",
    "                  ['dog', 'elephant', 'cat', 'hippopotamus']) == \n",
    "        ['elephant', 'hippopotamus'])\n",
    "\n",
    "assert my_filter(lambda x: x > 2, [2, 4, 5]) == [4, 5]\n",
    "assert my_filter(lambda x: x, [True, True, False]) == [True, True]\n",
    "assert (my_filter(lambda x: x[0] * x[1] < 1, [(1, 0.5), (0.8, 0.9),\n",
    "                                                 (2, 1)]) == [(1, 0.5),\n",
    "                                                              (0.8, 0.9)])"
   ]
  },
  {
   "cell_type": "code",
   "execution_count": null,
   "metadata": {},
   "outputs": [],
   "source": [
    "%%inlinetest MyFilterInlineTest\n",
    "assert len(my_filter(lambda x: True, [1, 2])) == 2, 'Are you returning all matching items?'\n",
    "assert my_filter(lambda x: x > 1, [1, 2]) == [2], 'Are you calling the predicate on each item?'\n",
    "assert my_filter(lambda x: True, [1, 2]) != [2, 1], 'Are you following the order of the provided items?'"
   ]
  },
  {
   "cell_type": "markdown",
   "metadata": {
    "colab_type": "text",
    "id": "KM6TDYWmLAZe"
   },
   "source": [
    "### 5.4. `map`: リストの各要素に関数適用をする関数 (`map`: Appying a Function to Each Item in a List)"
   ]
  },
  {
   "cell_type": "markdown",
   "metadata": {
    "colab_type": "text",
    "id": "HUVbZaZrmqbv"
   },
   "source": [
    "**lang:ja**\n",
    "\n",
    "関数とリストを受け取り、そのリストの各要素に受け取った関数を適用して得られるリストを返す関数 `my_map` を実装してください。"
   ]
  },
  {
   "cell_type": "markdown",
   "metadata": {},
   "source": [
    "**lang:en**\n",
    "\n",
    "Define a function `my_map(...)` that takes a function and a list of items, and returns the list of items after the function has been applied on each of the items."
   ]
  },
  {
   "cell_type": "markdown",
   "metadata": {},
   "source": [
    "#### Example\n",
    "\n",
    "```python\n",
    "def square(x):\n",
    "  return x ** 2\n",
    "\n",
    "print(my_map(square, [1, 2, 3])) # Prints [1, 4, 9].\n",
    "\n",
    "def expand3(x):\n",
    "  return [x] * 3\n",
    "\n",
    "print(my_map(expand3, [1, 2, 3])) # Prints [[1, 1, 1], [2, 2, 2], [3, 3, 3]].\n",
    "```\n",
    "\n",
    "```\n",
    "# EXERCISE METADATA\n",
    "exercise_id: \"ex54_ApplyFuncToList\"\n",
    "```"
   ]
  },
  {
   "cell_type": "code",
   "execution_count": null,
   "metadata": {
    "colab": {},
    "colab_type": "code",
    "id": "hpVUUt77oL_p"
   },
   "outputs": [],
   "source": [
    "%%solution\n",
    "def my_map(function, items):\n",
    "  \"\"\" # BEGIN PROMPT\n",
    "  pass\n",
    "  \"\"\" # END PROMPT\n",
    "  # BEGIN SOLUTION\n",
    "  transformed_items = []\n",
    "  for item in items:\n",
    "    transformed_items.append(function(item))\n",
    "  return transformed_items\n",
    "  # END SOLUTION"
   ]
  },
  {
   "cell_type": "code",
   "execution_count": null,
   "metadata": {
    "colab": {},
    "colab_type": "code",
    "id": "5crQ1GoooavC"
   },
   "outputs": [],
   "source": [
    "%%studenttest MyMapStudentTest\n",
    "assert my_map(lambda x: x, [1, 2, 3]) == [1, 2, 3]\n",
    "assert my_map(lambda x: x[0], [(1, 2), (2, 3), (3, 4)]) == [1, 2, 3]\n",
    "assert my_map(lambda x: x > 3, [8, 2, 1]) == [True, False, False]"
   ]
  },
  {
   "cell_type": "code",
   "execution_count": null,
   "metadata": {},
   "outputs": [],
   "source": [
    "%%inlinetest MyMapStudentTest\n",
    "assert len(my_map(lambda x: x, [1, 2])) == 2, 'Are you returning all of the mapped items?'\n",
    "assert my_map(lambda x: x, [1, 2]) != [2, 1], 'Are you following the order of the provided items?'\n",
    "assert my_map(lambda x: x + 1, [1, 2]) == [2, 3], 'Are you calling the function on each of the items?'"
   ]
  },
  {
   "cell_type": "markdown",
   "metadata": {
    "colab_type": "text",
    "id": "RMJ0ijT3L8sx"
   },
   "source": [
    "### Aside: Python's Built-In Functional Primitives"
   ]
  },
  {
   "cell_type": "markdown",
   "metadata": {},
   "source": [
    "**lang:ja**\n",
    "\n",
    "さて、ここまで実装してきた `my_filter` と `my_map` はよくつかわれる処理なので、Pythonでbuilt-in関数として用意されています。\n",
    "それぞれ、`filter`, `map` という関数です。"
   ]
  },
  {
   "cell_type": "markdown",
   "metadata": {},
   "source": [
    "**lang:en**\n",
    "\n",
    "As it turns out, the `my_filter(...)` and `my_map(...)` that you implemented are such common operations that they have been built into the Python language itself! "
   ]
  },
  {
   "cell_type": "code",
   "execution_count": null,
   "metadata": {
    "colab": {},
    "colab_type": "code",
    "id": "kHqa2zHRo_19"
   },
   "outputs": [],
   "source": [
    "filtered_list = list(filter(lambda x : x > 3, [4, 2, 8, -3, 10, 3])) \n",
    "assert(filtered_list == [4, 8, 10])\n",
    "\n",
    "mapped_list = list(map(lambda x: x**2, [1, 2, 3]))\n",
    "assert(mapped_list == [1, 4, 9])"
   ]
  },
  {
   "cell_type": "markdown",
   "metadata": {
    "colab_type": "text",
    "id": "l2fy4lodpCku"
   },
   "source": [
    "**lang:ja**\n",
    "\n",
    "また、これらの処理は **リスト内包表記 (list comprehension)** という機能をつかうことでも記述することができます。\n",
    "\n",
    "例えば、`map`に対応する処理はこのように実装できます。"
   ]
  },
  {
   "cell_type": "markdown",
   "metadata": {},
   "source": [
    "**lang:en**\n",
    "\n",
    "Also, you can use **list comprehension** to implement such list operations.\n",
    "By default, we can transform items like so:"
   ]
  },
  {
   "cell_type": "code",
   "execution_count": null,
   "metadata": {
    "colab": {
     "height": 34
    },
    "colab_type": "code",
    "executionInfo": {
     "elapsed": 538,
     "status": "ok",
     "timestamp": 1564236583782,
     "user": {
      "displayName": "Victor Kwan",
      "photoUrl": "https://lh3.googleusercontent.com/a-/AAuE7mCB46iGJ-0FDuKOowcSP9ZDbLNs0daZ3I2xrySdNA=s64",
      "userId": "09664034084960803357"
     },
     "user_tz": -540
    },
    "id": "gPP-Bdm5qqR1",
    "outputId": "671226f4-8a67-4f74-b973-bb35d3886d1e"
   },
   "outputs": [],
   "source": [
    "# Prints [1, 4, 9].\n",
    "print([x ** 2 for x in [1, 2, 3]])"
   ]
  },
  {
   "cell_type": "markdown",
   "metadata": {
    "colab_type": "text",
    "id": "ykKvCBO5quJI"
   },
   "source": [
    "**lang:ja**\n",
    "\n",
    "また、`filter` に対応する処理は、述語をリスト内包表記の末尾に `if` とともに書くことで記述できます。"
   ]
  },
  {
   "cell_type": "markdown",
   "metadata": {},
   "source": [
    "**lang:en**\n",
    "\n",
    "Then, to filter the items, we add the predicate at the end of the list comprehension:"
   ]
  },
  {
   "cell_type": "code",
   "execution_count": null,
   "metadata": {
    "colab": {
     "height": 34
    },
    "colab_type": "code",
    "executionInfo": {
     "elapsed": 511,
     "status": "ok",
     "timestamp": 1564236584376,
     "user": {
      "displayName": "Victor Kwan",
      "photoUrl": "https://lh3.googleusercontent.com/a-/AAuE7mCB46iGJ-0FDuKOowcSP9ZDbLNs0daZ3I2xrySdNA=s64",
      "userId": "09664034084960803357"
     },
     "user_tz": -540
    },
    "id": "FIHKcYoMrBaK",
    "outputId": "d767fcf8-e3fd-4253-c75b-a732f3ed7c95"
   },
   "outputs": [],
   "source": [
    "print([x for x in [4, 2, 8, -3, 10, 3] if x > 3])"
   ]
  },
  {
   "cell_type": "markdown",
   "metadata": {
    "colab_type": "text",
    "id": "cR-6W4uArX1Y"
   },
   "source": [
    "**lang:ja**\n",
    "\n",
    "もっと複雑なこともできます。\n",
    "ただ、リスト内包表記で複雑なことをしすぎるとコードの可読性が落ちるため、このような例では単に for-loopやif文を使ったほうがいいかもしれません。"
   ]
  },
  {
   "cell_type": "markdown",
   "metadata": {},
   "source": [
    "**lang:en**\n",
    "\n",
    "We can write more complex operations in list comprehension!\n",
    "This syntax can get quite complicated, with list comprehensions inside of list comprehensions! This is a very powerful tool, but we need to be careful that we are writing code that others can understand. For example, in the following case, we might be better off just using our normal for-loops and if-statements."
   ]
  },
  {
   "cell_type": "code",
   "execution_count": null,
   "metadata": {
    "colab": {
     "height": 67
    },
    "colab_type": "code",
    "executionInfo": {
     "elapsed": 518,
     "status": "ok",
     "timestamp": 1564236584972,
     "user": {
      "displayName": "Victor Kwan",
      "photoUrl": "https://lh3.googleusercontent.com/a-/AAuE7mCB46iGJ-0FDuKOowcSP9ZDbLNs0daZ3I2xrySdNA=s64",
      "userId": "09664034084960803357"
     },
     "user_tz": -540
    },
    "id": "VFG9kgnFrzJE",
    "outputId": "bf8b33d0-5618-4d3e-ada8-10ff3f3dcb2b"
   },
   "outputs": [],
   "source": [
    "# Prints [4, 9] since only x > 1 are transformed.\n",
    "print([x ** 2 for x in [1, 2, 3] if x > 1])\n",
    "\n",
    "# Creates a list of squares for each number in [1, 2, 3] that is larger than 1.\n",
    "print([[x ** 2 for x in range(y)] for y in [1, 2, 3] if y > 1])\n",
    "\n",
    "# Converts a list of number strings into numbers, then creates 3 x 3 matrices\n",
    "# containing each number.\n",
    "print([[[x] * 3] * 3 for x in [int(y) for y in ['1', '2', '3']]])"
   ]
  },
  {
   "cell_type": "markdown",
   "metadata": {
    "colab_type": "text",
    "id": "VJ9rem0u3i1X"
   },
   "source": [
    "## 6. Exercise: オブジェクト指向プログラミングと関数型プログラミング (OOP and FP\n",
    "\n",
    "<!--\n",
    "```\n",
    "# ASSIGNMENT METADATA\n",
    "assignment_id: \"FP_OOP\"\n",
    "```\n",
    "-->"
   ]
  },
  {
   "cell_type": "markdown",
   "metadata": {},
   "source": [
    "**lang:ja**\n",
    "\n",
    "この節では、ここまでで学んだ関数型プログラミング的考え方と、classを用いるオブジェクト指向的考え方をあわせて、データ処理を行うプログラムを書いてみましょう。\n",
    "\n",
    "今回は`\"('市町村名', 人口, 面積)\"` というタプルのリストに対する処理をするプログラムを考えます。\n",
    "6.1-6.3が問題の説明、6.4で実装という構成になっています。"
   ]
  },
  {
   "cell_type": "markdown",
   "metadata": {},
   "source": [
    "**lang:en**\n",
    "\n",
    "In this section, let's write a program that performs data processing, combining the functional programming and the object-oriented programming.\n",
    "\n",
    "Here, let's consider a program that operates on a list of tuples `\" ('city name', population, area) \"`.\n",
    "\n",
    "Problem statements are given in 6-1, 6-2, and 6-3, and you can implement the solution in 6-4."
   ]
  },
  {
   "cell_type": "markdown",
   "metadata": {},
   "source": [
    "```python\n",
    "# [(city name, population, area)]\n",
    "test_data = [('Chiyoda',   64894, 11.66),\n",
    "             ('Minato',   259042, 20.37),\n",
    "             ('Shinjuku', 349844, 18.22),\n",
    "             ('Bunkyo',   233926, 11.29),\n",
    "             ('Taito',    207838, 10.11)]\n",
    "```"
   ]
  },
  {
   "cell_type": "markdown",
   "metadata": {
    "colab_type": "text",
    "id": "veRfm1JVAD6r"
   },
   "source": [
    "### 6.1. Define a class"
   ]
  },
  {
   "cell_type": "markdown",
   "metadata": {},
   "source": [
    "**lang:ja**\n",
    "\n",
    "一つの市町村のデータを表すクラス `City` を実装してください。\n",
    "このクラスは\n",
    "* `name`\n",
    "* `population`\n",
    "* `area`\n",
    "というメンバーをもち、これらの値をタプルとして受け取るコンストラクタを持つようにしてください。"
   ]
  },
  {
   "cell_type": "markdown",
   "metadata": {},
   "source": [
    "**lang:en**\n",
    "\n",
    "Define a class `City`, which has the following members:\n",
    "* `name`\n",
    "* `population`\n",
    "* `area`\n",
    "The `City` has to have a contstructor that work like followings:"
   ]
  },
  {
   "cell_type": "markdown",
   "metadata": {},
   "source": [
    "#### Example\n",
    "\n",
    "```python\n",
    "name = 'Bunkyo'\n",
    "population = 233926\n",
    "area = 11.29\n",
    "\n",
    "city = City((name, population, area))\n",
    "\n",
    "assert(city.name == name)\n",
    "assert(city.area == area)\n",
    "assert(city.population == population)\n",
    "\n",
    "# You can create a list of `City` instances from `test_data` by using `map`.\n",
    "city_list = list(map(City, test_data))\n",
    "```"
   ]
  },
  {
   "cell_type": "markdown",
   "metadata": {
    "colab_type": "text",
    "id": "2PzZEXdA4UF9"
   },
   "source": [
    "### 6.2. Define a method"
   ]
  },
  {
   "cell_type": "markdown",
   "metadata": {},
   "source": [
    "**lang:ja**\n",
    "\n",
    "6.1.で定義した class `City` に人口密度を計算して返すメソッド `population_density()` を実装してください。"
   ]
  },
  {
   "cell_type": "markdown",
   "metadata": {},
   "source": [
    "**lang:en**\n",
    "\n",
    "Implement a method `population_density()` in `City`"
   ]
  },
  {
   "cell_type": "markdown",
   "metadata": {},
   "source": [
    "#### Example\n",
    "\n",
    "```python\n",
    "\n",
    "## Population density is (population / area)\n",
    "assert(city.population_density() == city.population / city.area)\n",
    "```"
   ]
  },
  {
   "cell_type": "markdown",
   "metadata": {},
   "source": [
    "### 6.3. Get top `k` cities"
   ]
  },
  {
   "cell_type": "markdown",
   "metadata": {},
   "source": [
    "**lang:ja**\n",
    "\n",
    "`City`のインスタンスのリスト `city_list` を受け取り、 人口密度が高い上位`k`個の都市の名前のリストを返す関数 `top_k_densest_city_name(city_list, k)` を実装してください。\n",
    "\n",
    "* **注意**： 返すリストの要素は都市の**名前**にして下さい。\n",
    "* **実装のヒント**: リスト`l`に対し、`l[n:m]`と書くことで `n`番目から`m-1`番目の要素までを取り出すことが出来ます。"
   ]
  },
  {
   "cell_type": "markdown",
   "metadata": {},
   "source": [
    "**lang:en**\n",
    "\n",
    "Implement a function `top_k_densest_city_name(city_list, k)` that takes a list of `City` instances `city_list` and returns a list of the top` k` cities with high population density.\n",
    "\n",
    "* **Note**: The return value should be a list of **names**, not city objects.\n",
    "* **Hint**: You can write `l[n:m]` to take the range from `n`-th element to `m-1`-th element in a list `l`."
   ]
  },
  {
   "cell_type": "markdown",
   "metadata": {},
   "source": [
    "#### Example\n",
    "```python\n",
    "top5_cities = top_k_densest_city_names(city_list, 5)\n",
    "\n",
    "# Prints ['Bunkyo', 'Taito', 'Shinjuku', 'Minato', 'Chiyoda']\n",
    "## 'Bunkyo' is the densest city.\n",
    "print(top5_cities)\n",
    "\n",
    "# If you are only interested in the densest city, pass 1 as `k`. \n",
    "# Prints ['Bunkyo']\n",
    "print(top_k_densest_city_names(city_list, 1))\n",
    "```"
   ]
  },
  {
   "cell_type": "markdown",
   "metadata": {
    "colab_type": "text",
    "id": "PSaq_yqex-Ah"
   },
   "source": [
    "### 6.4. 実装 (Implementation)"
   ]
  },
  {
   "cell_type": "markdown",
   "metadata": {},
   "source": [
    "```\n",
    "# EXERCISE METADATA\n",
    "exercise_id: \"ex64_FP_OOP\"\n",
    "```"
   ]
  },
  {
   "cell_type": "code",
   "execution_count": null,
   "metadata": {
    "colab": {},
    "colab_type": "code",
    "id": "hHiRXb3p3c11"
   },
   "outputs": [],
   "source": [
    "%%solution\n",
    "\n",
    "# [(city name, population, area)]\n",
    "test_data = [('Chiyoda',   64894, 11.66),\n",
    "             ('Minato',   259042, 20.37),\n",
    "             ('Shinjuku', 349844, 18.22),\n",
    "             ('Bunkyo',   233926, 11.29),\n",
    "             ('Taito',    207838, 10.11)]\n",
    "    \n",
    "\"\"\" # BEGIN PROMPT    \n",
    "class City:\n",
    "  # Q 6.1.\n",
    "  def __init__(self, data):\n",
    "    pass\n",
    "\n",
    "  # Q 6.2.\n",
    "  def population_density(self):\n",
    "    pass\n",
    "    \n",
    "# Q6.3.\n",
    "def top_k_densest_city_names(city_list, k):\n",
    "  pass\n",
    "\"\"\" # END PROMPT\n",
    "\n",
    "# BEGIN SOLUTION\n",
    "class City:\n",
    "  # Q 6.1.\n",
    "  def __init__(self, data):\n",
    "    self.name = data[0]\n",
    "    self.population = data[1]\n",
    "    self.area = data[2]\n",
    "\n",
    "  # Q 6.2.\n",
    "  def population_density(self):\n",
    "    return self.population / self.area\n",
    "\n",
    "# Q6.3.\n",
    "def top_k_densest_city_names(city_list, k):\n",
    "  sorted_cities = list(sorted(city_list, key=lambda c: c.population_density(), reverse=True))\n",
    "  return list(map(lambda c: c.name, sorted_cities[:k]))\n",
    "# END SOLUTION"
   ]
  },
  {
   "cell_type": "code",
   "execution_count": null,
   "metadata": {
    "colab": {
     "height": 35
    },
    "colab_type": "code",
    "executionInfo": {
     "elapsed": 666,
     "status": "ok",
     "timestamp": 1564316979077,
     "user": {
      "displayName": "Keiichi Watanabe",
      "photoUrl": "https://lh3.googleusercontent.com/a-/AAuE7mCXbo3WUEqGSdgGDLj87M6MHSXasbk_n2MMcaUs=s64",
      "userId": "01315856587179417490"
     },
     "user_tz": -540
    },
    "id": "vS5m_Sgv7ut_",
    "outputId": "da03036d-638d-43fd-a4a4-96ff8af4cff6"
   },
   "outputs": [],
   "source": [
    "%%studenttest FPAndOOPStudentTest1\n",
    "# Q 6.1.\n",
    "\n",
    "## Create a `City` instance for ('Chiyoda', 64894, 11.66) \n",
    "chiyoda_ku = City(test_data[0])\n",
    "\n",
    "## Each data must be accessed \n",
    "assert(chiyoda_ku.name == 'Chiyoda')\n",
    "assert(chiyoda_ku.population == 64894)\n",
    "assert(chiyoda_ku.area == 11.66)"
   ]
  },
  {
   "cell_type": "code",
   "execution_count": null,
   "metadata": {},
   "outputs": [],
   "source": [
    "%%studenttest FPAndOOPStudentTest2\n",
    "\n",
    "# Q 6.2.\n",
    "## Population density is (population / area)\n",
    "assert(chiyoda_ku.population_density() == 64894 / 11.66)"
   ]
  },
  {
   "cell_type": "code",
   "execution_count": null,
   "metadata": {},
   "outputs": [],
   "source": [
    "%%studenttest FPAndOOPStudentTest3\n",
    "\n",
    "# Q 6.3.\n",
    "\n",
    "## Create a list of `City` instances by using `map` function.\n",
    "city_list = list(map(City, test_data))\n",
    "\n",
    "## Get Top 5 cities\n",
    "top5_densest_cities = top_k_densest_city_names(city_list, 5)\n",
    "\n",
    "# Expected: ['Bunkyo', 'Taito', 'Shinjuku', 'Minato', 'Chiyoda']\n",
    "print('Top 5 cities: {}'.format(top5_densest_cities))\n",
    "assert(len(top5_densest_cities) == 5)\n",
    "\n",
    "expected = ['Bunkyo', 'Taito', 'Shinjuku', 'Minato', 'Chiyoda']\n",
    "assert top5_densest_cities == expected, 'Expected: {}, Actual: {}'.format(expected, top5_densest_cities)"
   ]
  },
  {
   "cell_type": "code",
   "execution_count": null,
   "metadata": {},
   "outputs": [],
   "source": [
    "%%studenttest FPAndOOPStudentTest3_2\n",
    "\n",
    "# More tests: Change the value of `k`\n",
    "\n",
    "## Get Top 2 cities\n",
    "top2_densest_cities = top_k_densest_city_names(city_list, 2)\n",
    "print('Top 2 cities: {}'.format(top2_densest_cities))\n",
    "assert len(top2_densest_cities) == 2\n",
    "assert top2_densest_cities == [ 'Bunkyo', 'Taito' ]\n",
    "\n",
    "## What if `k` is 0?\n",
    "top0_densest_cities = top_k_densest_city_names(city_list, 0)\n",
    "print('Top 0 cities: {}'.format(top0_densest_cities))\n",
    "assert(top0_densest_cities == [])"
   ]
  },
  {
   "cell_type": "code",
   "execution_count": null,
   "metadata": {},
   "outputs": [],
   "source": [
    "%%inlinetest FPAndOOPStudentTest\n",
    "\n",
    "# Q 6.1.\n",
    "try:\n",
    "  City(('A', 1, 1))\n",
    "except NameError:\n",
    "  assert False, 'class `City` is not implemented'\n",
    "except Exception:\n",
    "  assert False, 'City((\\'A\\', 1, 1)) raised an exception'\n",
    "\n",
    "try:\n",
    "  c = City(('A', 1, 1))\n",
    "  name = c.__class__.__name__\n",
    "except Exception:\n",
    "  assert False, \"City(('A', 1, 1)) raised an exception\"\n",
    "\n",
    "if name != 'City':\n",
    "  assert False, 'The class name is not `City` but {}'.format(name)\n",
    "\n",
    "test_data = [('Chiyoda',   64894, 11.66),\n",
    "             ('Minato',   259042, 20.37),\n",
    "             ('Shinjuku', 349844, 18.22),\n",
    "             ('Bunkyo',   233926, 11.29),\n",
    "             ('Taito',    207838, 10.11)]\n",
    "city_a = City(test_data[0])\n",
    "\n",
    "try:\n",
    "  city_a.name\n",
    "  city_a.population\n",
    "  city_a.area\n",
    "except AttributeError:\n",
    "  assert False, 'The class `City` must have fields `name`, `population` and `area`.'\n",
    "\n",
    "assert city_a.name == 'Chiyoda', '`name` field is not implemeted properly'\n",
    "\n",
    "if city_a.population == test_data[1] and city_a.area == test_data[0]:\n",
    "  assert False, 'You may swap `population` and `area`?'\n",
    "\n",
    "assert city_a.population == test_data[0][1], '`population` field is not implemeted properly'\n",
    "assert city_a.area == test_data[0][2], '`area` field is not implemeted properly'\n",
    "\n",
    "# Q 6.2.\n",
    "try:\n",
    "  city_a.population_density()\n",
    "except AttributeError:\n",
    "  assert False, 'The class has no method like `city_a.population_density()`.'\n",
    "\n",
    "assert city_a.population_density() == city_a.population / city_a.area, 'population_density() must return `population` / `area`'\n",
    "\n",
    "# Q 6.3.\n",
    "try:\n",
    "  top_k_densest_city_names\n",
    "except NameError:\n",
    "  assert False, 'function \\'top_k_densest_city_names\\' is not defined'\n",
    "\n",
    "\n",
    "city_list = list(map(lambda data: City(data), test_data))\n",
    "\n",
    "try:\n",
    "  assert top_k_densest_city_names(city_list, 3) is not None, \"You have not implemented top_k_densest_city_names\"\n",
    "except Exception as e:\n",
    "  assert False, 'Error when trying to run top_k_densest_city_names: %s' % e\n",
    "\n",
    "ans3 = top_k_densest_city_names(city_list, 3)\n",
    "assert len(ans3) == 3, 'top_k_densest_city_names(..., 3) must return list with 3 elements, but got %d' % len(ans3)\n",
    "\n",
    "dense_cities = top_k_densest_city_names(city_list, 5)\n",
    "assert dense_cities.__class__ == list, \"top_k_densest_city_names() should return a list, but got %s\" % dense_cities.__class__\n",
    "assert len(dense_cities) == 5, \"top_k_densest_city_names(city_list, 5) should return a list with 5 elements, but got %d\" % len(dense_cities)\n",
    "assert dense_cities[0].__class__ == str, \"top_k_densest_city_names() should return a list of strings, but got %s\" % dense_cities[0].__class__\n",
    "\n",
    "ans = ['Bunkyo', 'Taito', 'Shinjuku', 'Minato', 'Chiyoda']\n",
    "\n",
    "assert dense_cities == ans, ('the population density ranking should be '+\"['Bunkyo', 'Taito', 'Shinjuku', 'Chuo', 'Minato'], but your code returned %s\" % dense_cities)"
   ]
  },
  {
   "cell_type": "code",
   "execution_count": null,
   "metadata": {},
   "outputs": [],
   "source": [
    "result, logs = %autotest FPAndOOPStudentTest\n",
    "assert result.results['passed']\n",
    "report(FPAndOOPStudentTest, results=result.results)"
   ]
  }
 ],
 "metadata": {
  "colab": {
   "collapsed_sections": [
    "AX3rFJeYlqfw",
    "CB2CcEvSDp4w",
    "myKPcvop7rph",
    "YA6Y7S9jL33v"
   ],
   "last_runtime": {
    "build_target": "//research/colab/notebook:notebook_backend_py3",
    "kind": "private"
   },
   "name": "FP lecture (Japanese)",
   "provenance": [],
   "toc_visible": true,
   "version": "0.3.2"
  },
  "kernelspec": {
   "display_name": "Python 3",
   "language": "python",
   "name": "python3"
  },
  "language_info": {
   "codemirror_mode": {
    "name": "ipython",
    "version": 3
   },
   "file_extension": ".py",
   "mimetype": "text/x-python",
   "name": "python",
   "nbconvert_exporter": "python",
   "pygments_lexer": "ipython3",
   "version": "3.6.6"
  }
 },
 "nbformat": 4,
 "nbformat_minor": 1
}
